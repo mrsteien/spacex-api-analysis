{
 "cells": [
  {
   "cell_type": "markdown",
   "metadata": {},
   "source": [
    "SpaceX launch anlysis\n",
    "Analyzing SpaceX launch data from the public API to understand launch success rates by rocket, pad and year"
   ]
  },
  {
   "cell_type": "markdown",
   "metadata": {},
   "source": [
    "#1 import libraries and fetch baseline launch data from API and store in pandas dataframe"
   ]
  },
  {
   "cell_type": "code",
   "execution_count": null,
   "metadata": {},
   "outputs": [],
   "source": [
    "import requests\n",
    "import pandas as pd\n",
    "import json\n",
    "# API endpoint for all launches\n",
    "url = \"https://api.spacexdata.com/v4/launches\"\n",
    "\n",
    "# Fetch data\n",
    "response = requests.get(url)\n",
    "if response.status_code == 200:\n",
    "    launches = response.json()\n",
    "   \n",
    "else:\n",
    "    print(\"Error fetching data:\", response.status_code)\n",
    "    launches = []\n",
    "\n",
    "# Extract relevant fields\n",
    "launch_data = []\n",
    "for launch in launches:\n",
    "    launch_data.append({\n",
    "        \"launch_name\": launch[\"name\"],\n",
    "        \"date\": launch[\"date_utc\"],\n",
    "        \"success\": launch[\"success\"],\n",
    "        \"rocket_id\": launch[\"rocket\"],\n",
    "        \"payloads\": len(launch[\"payloads\"]),\n",
    "        \"launchpad_id\": str(launch[\"launchpad\"])\n",
    "    })\n",
    "\n",
    "# Convert to DataFrame\n",
    "df = pd.DataFrame(launch_data)\n",
    "\n",
    "df.to_csv('data/spacex_launches.csv', index=False)"
   ]
  },
  {
   "cell_type": "markdown",
   "metadata": {},
   "source": [
    "#2 Fetch rocket data from rocket API and left join on rocket_id. adding actual rocket name to dataframe"
   ]
  },
  {
   "cell_type": "code",
   "execution_count": null,
   "metadata": {},
   "outputs": [],
   "source": [
    "all_rockets_url = f\"https://api.spacexdata.com/v4/rockets\"\n",
    "\n",
    "all_rocket_res = requests.get(all_rockets_url)\n",
    "\n",
    "all_rockets = all_rocket_res.json()\n",
    "\n",
    "rocket_df = pd.DataFrame([{\n",
    "    \"rocket_id\": rocket[\"id\"]\n",
    "    ,\"rocket_name\": rocket[\"name\"]\n",
    "} for rocket in all_rockets])\n",
    "\n",
    "df = df.merge(rocket_df, left_on=\"rocket_id\", right_on=\"rocket_id\", how=\"left\")"
   ]
  },
  {
   "cell_type": "markdown",
   "metadata": {},
   "source": [
    "#3 Fetch launchpad data and left join on launchpad id, adding a launchpad name and location to the data."
   ]
  },
  {
   "cell_type": "code",
   "execution_count": null,
   "metadata": {},
   "outputs": [],
   "source": [
    "launchpads_url = \"https://api.spacexdata.com/v4/launchpads\"\n",
    "\n",
    "launchpads_res = requests.get(launchpads_url)\n",
    "\n",
    "launchpads = launchpads_res.json()\n",
    "\n",
    "launchpad_df = pd.DataFrame([{\n",
    "    \"launchpad_id\": pad[\"id\"]\n",
    "    ,\"launchpad_name\": pad[\"name\"]\n",
    "    ,\"launchpad_location\": pad[\"locality\"]\n",
    "} for pad in launchpads ])\n",
    "\n",
    "df = df.merge(launchpad_df, left_on=\"launchpad_id\", right_on=\"launchpad_id\", how=\"left\")"
   ]
  },
  {
   "cell_type": "markdown",
   "metadata": {},
   "source": [
    "analysis: success rate by rocket, launchpad and year"
   ]
  },
  {
   "cell_type": "code",
   "execution_count": null,
   "metadata": {},
   "outputs": [],
   "source": [
    "df[\"date\"] = pd.to_datetime(df[\"date\"])\n",
    "\n",
    "df[\"year\"] = df[\"date\"].dt.year\n",
    "\n",
    "grouped_df = df.groupby([\"rocket_name\",\"launchpad_name\",\"year\"])\n",
    "\n",
    "summary = grouped_df[\"success\"].agg(\n",
    "    total_launches=\"count\"\n",
    "    ,successful_launches = lambda x: x.sum()\n",
    "    ,success_rate=lambda x:(x.sum() / x.count()) * 100\n",
    ").reset_index()\n",
    "\n",
    "summary = summary.sort_values(by=\"success_rate\", ascending=False)\n",
    "print(summary)"
   ]
  },
  {
   "cell_type": "code",
   "execution_count": null,
   "metadata": {},
   "outputs": [],
   "source": [
    "summary.to_csv('data/spacex_launches.csv', index=False)"
   ]
  },
  {
   "cell_type": "markdown",
   "metadata": {},
   "source": [
    "conclusion\n",
    "-falcon 9 \n",
    "-most launches occur at CCSFS SLC 40\n",
    "\n",
    "next steps\n",
    "- payload data could be added\n",
    "- csv could be visulized and presented over years"
   ]
  }
 ],
 "metadata": {
  "kernelspec": {
   "display_name": "Python 3",
   "language": "python",
   "name": "python3"
  },
  "language_info": {
   "codemirror_mode": {
    "name": "ipython",
    "version": 3
   },
   "file_extension": ".py",
   "mimetype": "text/x-python",
   "name": "python",
   "nbconvert_exporter": "python",
   "pygments_lexer": "ipython3",
   "version": "3.13.2"
  }
 },
 "nbformat": 4,
 "nbformat_minor": 2
}
